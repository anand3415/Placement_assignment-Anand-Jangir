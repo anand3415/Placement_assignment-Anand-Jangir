{
  "nbformat": 4,
  "nbformat_minor": 0,
  "metadata": {
    "colab": {
      "provenance": []
    },
    "kernelspec": {
      "name": "python3",
      "display_name": "Python 3"
    },
    "language_info": {
      "name": "python"
    }
  },
  "cells": [
    {
      "cell_type": "code",
      "execution_count": null,
      "metadata": {
        "id": "7g55lxO9eORa"
      },
      "outputs": [],
      "source": [
        "def word_length(text):\n",
        "    word_count = {}\n",
        "    \n",
        "    \n",
        "    no_words = text.split()  # Split the string into words\n",
        "    \n",
        "    \n",
        "    for word in no_words:\n",
        "        if word in word_count:\n",
        "            word_count[word] += 1\n",
        "        else:\n",
        "            word_count[word] = 1    # Count the frequency of each word\n",
        "    \n",
        "    \n",
        "    max_frequency = max(word_count.values())\n",
        "    highest_frequency = [word for word, count in word_count.items() if count == max_frequency] # Find the word with the maximum frequency\n",
        "    \n",
        "    \n",
        "    highest_frequency_length = len(highest_frequency[0])  # Find the length of the highest-frequency word\n",
        "    \n",
        "    return highest_frequency_length\n",
        "\n",
        "text = \"we we we write the code code code code for future future future future future future.\"\n",
        "output = word_length(text)\n",
        "print(output)  \n"
      ]
    }
  ]
}