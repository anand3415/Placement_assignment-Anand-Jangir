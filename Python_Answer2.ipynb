{
  "nbformat": 4,
  "nbformat_minor": 0,
  "metadata": {
    "colab": {
      "provenance": []
    },
    "kernelspec": {
      "name": "python3",
      "display_name": "Python 3"
    },
    "language_info": {
      "name": "python"
    }
  },
  "cells": [
    {
      "cell_type": "code",
      "execution_count": null,
      "metadata": {
        "id": "7g55lxO9eORa"
      },
      "outputs": [],
      "source": [
        "def valid_string(s):\n",
        "    char_counts = {}\n",
        "    \n",
        "    \n",
        "    for char in s:\n",
        "        if char in char_counts:\n",
        "            char_counts[char] += 1\n",
        "        else:\n",
        "            char_counts[char] = 1             # Count the frequency of each character\n",
        "    \n",
        "    \n",
        "    freq = list(char_counts.values())\n",
        "    unique_freq = set(freq)    \n",
        "    \n",
        "    if len(unique_freq) == 1:\n",
        "        return \"YES\"                          # Check if all characters have the same frequency\n",
        "    \n",
        "    \n",
        "    if len(unique_freq) == 2:\n",
        "        min_freq = min(unique_freq)\n",
        "        max_freq = max(unique_freq)\n",
        "        if freq.count(min_freq) == 1 and min_freq == 1:\n",
        "            return \"YES\"\n",
        "        if freq.count(max_freq) == 1 and max_freq - min_freq == 1:\n",
        "            return \"YES\"\n",
        "    \n",
        "    return \"NO\"                              # Check if removing one character makes the frequencies the same\n",
        "\n",
        "\n",
        "\n",
        "\n",
        "\n",
        "\n",
        "string_1 = \"and\"\n",
        "output_1 = valid_string(string_1)\n",
        "print(output_1)\n",
        "\n",
        "string_2 = \"anandddd\"\n",
        "output_2 = valid_string(string_2)\n",
        "print(output_2)"
      ]
    }
  ]
}