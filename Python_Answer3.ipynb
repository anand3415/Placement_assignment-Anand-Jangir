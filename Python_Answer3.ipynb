{
  "nbformat": 4,
  "nbformat_minor": 0,
  "metadata": {
    "colab": {
      "provenance": []
    },
    "kernelspec": {
      "name": "python3",
      "display_name": "Python 3"
    },
    "language_info": {
      "name": "python"
    }
  },
  "cells": [
    {
      "cell_type": "code",
      "execution_count": null,
      "metadata": {
        "id": "7g55lxO9eORa"
      },
      "outputs": [],
      "source": [
        "import requests\n",
        "import pandas as pd\n",
        "\n",
        "# Step 1: Download the data\n",
        "url = \"https://raw.githubusercontent.com/Biuni/PokemonGO-Pokedex/master/pokedex.json\"\n",
        "response = requests.get(url)\n",
        "data = response.json()\n",
        "\n",
        "# Step 2: Process the data\n",
        "pokemon_data = []\n",
        "for pokemon in data[\"pokemon\"]:\n",
        "  try:\n",
        "    multipliers = \", \".join([str(multiplier) for multiplier in pokemon.get(\"multipliers\", [])])\n",
        "  except:\n",
        "    multipliers = \"None\"\n",
        "  pokemon_entry = {\n",
        "      \"id\": pokemon.get(\"id\", \"\"),\n",
        "      \"num\": pokemon.get(\"num\", \"\"),\n",
        "      \"name\": pokemon.get(\"name\", \"\"),\n",
        "      \"img\": pokemon.get(\"img\", \"\"),\n",
        "      \"type\": \", \".join(pokemon.get(\"type\", [])),\n",
        "      \"height\": pokemon.get(\"height\", \"\"),\n",
        "      \"weight\": pokemon.get(\"weight\", \"\"),\n",
        "      \"candy\": pokemon.get(\"candy\", \"\"),\n",
        "      \"candy_count\": pokemon.get(\"candy_count\", 0),\n",
        "      \"egg\": pokemon.get(\"egg\", \"\"),\n",
        "      \"spawn_chance\": pokemon.get(\"spawn_chance\", 0),\n",
        "      \"avg_spawns\": pokemon.get(\"avg_spawns\", 0),\n",
        "      \"spawn_time\": pokemon.get(\"spawn_time\", \"\"),\n",
        "      \"weakness\": \", \".join(pokemon.get(\"weaknesses\", [])),\n",
        "      \"next_evolution\": \", \".join([evolution.get(\"name\", \"\") for evolution in pokemon.get(\"next_evolution\", [])]),\n",
        "      \"prev_evolution\": \", \".join([evolution.get(\"name\", \"\") for evolution in pokemon.get(\"prev_evolution\", [])]),\n",
        "      \"multipliers\": multipliers\n",
        "  }\n",
        "  pokemon_data.append(pokemon_entry)\n",
        "\n",
        "# Export to Excel\n",
        "df = pd.DataFrame(pokemon_data)\n",
        "excel_filename = \"pokemon_data.xlsx\"\n",
        "df.to_excel(excel_filename, index=False)\n",
        "print(f\"Data has been successfully exported to '{excel_filename}' in Excel format.\")"
      ]
    }
  ]
}