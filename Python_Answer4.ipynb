{
  "nbformat": 4,
  "nbformat_minor": 0,
  "metadata": {
    "colab": {
      "provenance": []
    },
    "kernelspec": {
      "name": "python3",
      "display_name": "Python 3"
    },
    "language_info": {
      "name": "python"
    }
  },
  "cells": [
    {
      "cell_type": "code",
      "execution_count": null,
      "metadata": {
        "id": "7g55lxO9eORa"
      },
      "outputs": [],
      "source": [
        "import pandas as pd\n",
        "\n",
        "url = \"https://data.nasa.gov/resource/y77d-th95.json\"\n",
        "csv_filename = \"meteorite_data.csv\"\n",
        "\n",
        "try:\n",
        "    df = pd.read_json(url)\n",
        "    df.to_csv(csv_filename, index=False)\n",
        "    print(f\"Data has been successfully exported to '{csv_filename}' in CSV format.\")\n",
        "    print(df.head())\n",
        "except Exception as e:\n",
        "    print(f\"Error occurred: {str(e)}\")"
      ]
    }
  ]
}