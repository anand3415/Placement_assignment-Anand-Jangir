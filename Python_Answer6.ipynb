{
  "nbformat": 4,
  "nbformat_minor": 0,
  "metadata": {
    "colab": {
      "provenance": []
    },
    "kernelspec": {
      "name": "python3",
      "display_name": "Python 3"
    },
    "language_info": {
      "name": "python"
    }
  },
  "cells": [
    {
      "cell_type": "code",
      "execution_count": null,
      "metadata": {
        "id": "5CKAqLpiBq7o"
      },
      "outputs": [],
      "source": [
        "import requests\n",
        "import pandas as pd\n",
        "\n",
        "# Step 1: Download the data\n",
        "url = \"https://raw.githubusercontent.com/Biuni/PokemonGO-Pokedex/master/pokedex.json\"\n",
        "response = requests.get(url)\n",
        "data = response.json()\n",
        "\n",
        "# Step 2: Process the data\n",
        "pokemon_data = []\n",
        "for pokemon in data[\"pokemon\"]:\n",
        "  try:\n",
        "    multipliers = \", \".join([str(multiplier) for multiplier in pokemon.get(\"multipliers\", [])])\n",
        "  except:\n",
        "    multipliers = \"None\"\n",
        "  pokemon_entry = {\n",
        "      \"id\": pokemon.get(\"id\", \"\"),\n",
        "      \"num\": pokemon.get(\"num\", \"\"),\n",
        "      \"name\": pokemon.get(\"name\", \"\"),\n",
        "      \"img\": pokemon.get(\"img\", \"\"),\n",
        "      \"type\": \", \".join(pokemon.get(\"type\", [])),\n",
        "      \"height\": pokemon.get(\"height\", \"\"),\n",
        "      \"weight\": pokemon.get(\"weight\", \"\"),\n",
        "      \"candy\": pokemon.get(\"candy\", \"\"),\n",
        "      \"candy_count\": pokemon.get(\"candy_count\", 0),\n",
        "      \"egg\": pokemon.get(\"egg\", \"\"),\n",
        "      \"spawn_chance\": pokemon.get(\"spawn_chance\", 0),\n",
        "      \"avg_spawns\": pokemon.get(\"avg_spawns\", 0),\n",
        "      \"spawn_time\": pokemon.get(\"spawn_time\", \"\"),\n",
        "      \"weakness\": \", \".join(pokemon.get(\"weaknesses\", [])),\n",
        "      \"next_evolution\": \", \".join([evolution.get(\"name\", \"\") for evolution in pokemon.get(\"next_evolution\", [])]),\n",
        "      \"prev_evolution\": \", \".join([evolution.get(\"name\", \"\") for evolution in pokemon.get(\"prev_evolution\", [])]),\n",
        "      \"multipliers\": multipliers\n",
        "  }\n",
        "  pokemon_data.append(pokemon_entry)\n",
        "\n",
        "# Step 3: Convert data to a DataFrame\n",
        "df = pd.DataFrame(pokemon_data)"
      ]
    },
    {
      "cell_type": "code",
      "source": [
        "df.head()"
      ],
      "metadata": {
        "colab": {
          "base_uri": "https://localhost:8080/",
          "height": 443
        },
        "id": "fJAAKLS2B0nV",
        "outputId": "9b85e868-5f87-4ff0-dc9a-0a1549966828"
      },
      "execution_count": null,
      "outputs": [
        {
          "output_type": "execute_result",
          "data": {
            "text/plain": [
              "   id  num        name                                               img  \\\n",
              "0   1  001   Bulbasaur  http://www.serebii.net/pokemongo/pokemon/001.png   \n",
              "1   2  002     Ivysaur  http://www.serebii.net/pokemongo/pokemon/002.png   \n",
              "2   3  003    Venusaur  http://www.serebii.net/pokemongo/pokemon/003.png   \n",
              "3   4  004  Charmander  http://www.serebii.net/pokemongo/pokemon/004.png   \n",
              "4   5  005  Charmeleon  http://www.serebii.net/pokemongo/pokemon/005.png   \n",
              "\n",
              "            type  height    weight             candy  candy_count  \\\n",
              "0  Grass, Poison  0.71 m    6.9 kg   Bulbasaur Candy           25   \n",
              "1  Grass, Poison  0.99 m   13.0 kg   Bulbasaur Candy          100   \n",
              "2  Grass, Poison  2.01 m  100.0 kg   Bulbasaur Candy            0   \n",
              "3           Fire  0.61 m    8.5 kg  Charmander Candy           25   \n",
              "4           Fire  1.09 m   19.0 kg  Charmander Candy          100   \n",
              "\n",
              "           egg  spawn_chance  avg_spawns spawn_time  \\\n",
              "0         2 km         0.690        69.0      20:00   \n",
              "1  Not in Eggs         0.042         4.2      07:00   \n",
              "2  Not in Eggs         0.017         1.7      11:30   \n",
              "3         2 km         0.253        25.3      08:45   \n",
              "4  Not in Eggs         0.012         1.2      19:00   \n",
              "\n",
              "                     weakness         next_evolution      prev_evolution  \\\n",
              "0  Fire, Ice, Flying, Psychic      Ivysaur, Venusaur                       \n",
              "1  Fire, Ice, Flying, Psychic               Venusaur           Bulbasaur   \n",
              "2  Fire, Ice, Flying, Psychic                         Bulbasaur, Ivysaur   \n",
              "3         Water, Ground, Rock  Charmeleon, Charizard                       \n",
              "4         Water, Ground, Rock              Charizard          Charmander   \n",
              "\n",
              "  multipliers  \n",
              "0        1.58  \n",
              "1    1.2, 1.6  \n",
              "2        None  \n",
              "3        1.65  \n",
              "4        1.79  "
            ],
            "text/html": [
              "\n",
              "  <div id=\"df-5935a787-88df-49b1-805a-6d08048bbaab\">\n",
              "    <div class=\"colab-df-container\">\n",
              "      <div>\n",
              "<style scoped>\n",
              "    .dataframe tbody tr th:only-of-type {\n",
              "        vertical-align: middle;\n",
              "    }\n",
              "\n",
              "    .dataframe tbody tr th {\n",
              "        vertical-align: top;\n",
              "    }\n",
              "\n",
              "    .dataframe thead th {\n",
              "        text-align: right;\n",
              "    }\n",
              "</style>\n",
              "<table border=\"1\" class=\"dataframe\">\n",
              "  <thead>\n",
              "    <tr style=\"text-align: right;\">\n",
              "      <th></th>\n",
              "      <th>id</th>\n",
              "      <th>num</th>\n",
              "      <th>name</th>\n",
              "      <th>img</th>\n",
              "      <th>type</th>\n",
              "      <th>height</th>\n",
              "      <th>weight</th>\n",
              "      <th>candy</th>\n",
              "      <th>candy_count</th>\n",
              "      <th>egg</th>\n",
              "      <th>spawn_chance</th>\n",
              "      <th>avg_spawns</th>\n",
              "      <th>spawn_time</th>\n",
              "      <th>weakness</th>\n",
              "      <th>next_evolution</th>\n",
              "      <th>prev_evolution</th>\n",
              "      <th>multipliers</th>\n",
              "    </tr>\n",
              "  </thead>\n",
              "  <tbody>\n",
              "    <tr>\n",
              "      <th>0</th>\n",
              "      <td>1</td>\n",
              "      <td>001</td>\n",
              "      <td>Bulbasaur</td>\n",
              "      <td>http://www.serebii.net/pokemongo/pokemon/001.png</td>\n",
              "      <td>Grass, Poison</td>\n",
              "      <td>0.71 m</td>\n",
              "      <td>6.9 kg</td>\n",
              "      <td>Bulbasaur Candy</td>\n",
              "      <td>25</td>\n",
              "      <td>2 km</td>\n",
              "      <td>0.690</td>\n",
              "      <td>69.0</td>\n",
              "      <td>20:00</td>\n",
              "      <td>Fire, Ice, Flying, Psychic</td>\n",
              "      <td>Ivysaur, Venusaur</td>\n",
              "      <td></td>\n",
              "      <td>1.58</td>\n",
              "    </tr>\n",
              "    <tr>\n",
              "      <th>1</th>\n",
              "      <td>2</td>\n",
              "      <td>002</td>\n",
              "      <td>Ivysaur</td>\n",
              "      <td>http://www.serebii.net/pokemongo/pokemon/002.png</td>\n",
              "      <td>Grass, Poison</td>\n",
              "      <td>0.99 m</td>\n",
              "      <td>13.0 kg</td>\n",
              "      <td>Bulbasaur Candy</td>\n",
              "      <td>100</td>\n",
              "      <td>Not in Eggs</td>\n",
              "      <td>0.042</td>\n",
              "      <td>4.2</td>\n",
              "      <td>07:00</td>\n",
              "      <td>Fire, Ice, Flying, Psychic</td>\n",
              "      <td>Venusaur</td>\n",
              "      <td>Bulbasaur</td>\n",
              "      <td>1.2, 1.6</td>\n",
              "    </tr>\n",
              "    <tr>\n",
              "      <th>2</th>\n",
              "      <td>3</td>\n",
              "      <td>003</td>\n",
              "      <td>Venusaur</td>\n",
              "      <td>http://www.serebii.net/pokemongo/pokemon/003.png</td>\n",
              "      <td>Grass, Poison</td>\n",
              "      <td>2.01 m</td>\n",
              "      <td>100.0 kg</td>\n",
              "      <td>Bulbasaur Candy</td>\n",
              "      <td>0</td>\n",
              "      <td>Not in Eggs</td>\n",
              "      <td>0.017</td>\n",
              "      <td>1.7</td>\n",
              "      <td>11:30</td>\n",
              "      <td>Fire, Ice, Flying, Psychic</td>\n",
              "      <td></td>\n",
              "      <td>Bulbasaur, Ivysaur</td>\n",
              "      <td>None</td>\n",
              "    </tr>\n",
              "    <tr>\n",
              "      <th>3</th>\n",
              "      <td>4</td>\n",
              "      <td>004</td>\n",
              "      <td>Charmander</td>\n",
              "      <td>http://www.serebii.net/pokemongo/pokemon/004.png</td>\n",
              "      <td>Fire</td>\n",
              "      <td>0.61 m</td>\n",
              "      <td>8.5 kg</td>\n",
              "      <td>Charmander Candy</td>\n",
              "      <td>25</td>\n",
              "      <td>2 km</td>\n",
              "      <td>0.253</td>\n",
              "      <td>25.3</td>\n",
              "      <td>08:45</td>\n",
              "      <td>Water, Ground, Rock</td>\n",
              "      <td>Charmeleon, Charizard</td>\n",
              "      <td></td>\n",
              "      <td>1.65</td>\n",
              "    </tr>\n",
              "    <tr>\n",
              "      <th>4</th>\n",
              "      <td>5</td>\n",
              "      <td>005</td>\n",
              "      <td>Charmeleon</td>\n",
              "      <td>http://www.serebii.net/pokemongo/pokemon/005.png</td>\n",
              "      <td>Fire</td>\n",
              "      <td>1.09 m</td>\n",
              "      <td>19.0 kg</td>\n",
              "      <td>Charmander Candy</td>\n",
              "      <td>100</td>\n",
              "      <td>Not in Eggs</td>\n",
              "      <td>0.012</td>\n",
              "      <td>1.2</td>\n",
              "      <td>19:00</td>\n",
              "      <td>Water, Ground, Rock</td>\n",
              "      <td>Charizard</td>\n",
              "      <td>Charmander</td>\n",
              "      <td>1.79</td>\n",
              "    </tr>\n",
              "  </tbody>\n",
              "</table>\n",
              "</div>\n",
              "      <button class=\"colab-df-convert\" onclick=\"convertToInteractive('df-5935a787-88df-49b1-805a-6d08048bbaab')\"\n",
              "              title=\"Convert this dataframe to an interactive table.\"\n",
              "              style=\"display:none;\">\n",
              "        \n",
              "  <svg xmlns=\"http://www.w3.org/2000/svg\" height=\"24px\"viewBox=\"0 0 24 24\"\n",
              "       width=\"24px\">\n",
              "    <path d=\"M0 0h24v24H0V0z\" fill=\"none\"/>\n",
              "    <path d=\"M18.56 5.44l.94 2.06.94-2.06 2.06-.94-2.06-.94-.94-2.06-.94 2.06-2.06.94zm-11 1L8.5 8.5l.94-2.06 2.06-.94-2.06-.94L8.5 2.5l-.94 2.06-2.06.94zm10 10l.94 2.06.94-2.06 2.06-.94-2.06-.94-.94-2.06-.94 2.06-2.06.94z\"/><path d=\"M17.41 7.96l-1.37-1.37c-.4-.4-.92-.59-1.43-.59-.52 0-1.04.2-1.43.59L10.3 9.45l-7.72 7.72c-.78.78-.78 2.05 0 2.83L4 21.41c.39.39.9.59 1.41.59.51 0 1.02-.2 1.41-.59l7.78-7.78 2.81-2.81c.8-.78.8-2.07 0-2.86zM5.41 20L4 18.59l7.72-7.72 1.47 1.35L5.41 20z\"/>\n",
              "  </svg>\n",
              "      </button>\n",
              "      \n",
              "  <style>\n",
              "    .colab-df-container {\n",
              "      display:flex;\n",
              "      flex-wrap:wrap;\n",
              "      gap: 12px;\n",
              "    }\n",
              "\n",
              "    .colab-df-convert {\n",
              "      background-color: #E8F0FE;\n",
              "      border: none;\n",
              "      border-radius: 50%;\n",
              "      cursor: pointer;\n",
              "      display: none;\n",
              "      fill: #1967D2;\n",
              "      height: 32px;\n",
              "      padding: 0 0 0 0;\n",
              "      width: 32px;\n",
              "    }\n",
              "\n",
              "    .colab-df-convert:hover {\n",
              "      background-color: #E2EBFA;\n",
              "      box-shadow: 0px 1px 2px rgba(60, 64, 67, 0.3), 0px 1px 3px 1px rgba(60, 64, 67, 0.15);\n",
              "      fill: #174EA6;\n",
              "    }\n",
              "\n",
              "    [theme=dark] .colab-df-convert {\n",
              "      background-color: #3B4455;\n",
              "      fill: #D2E3FC;\n",
              "    }\n",
              "\n",
              "    [theme=dark] .colab-df-convert:hover {\n",
              "      background-color: #434B5C;\n",
              "      box-shadow: 0px 1px 3px 1px rgba(0, 0, 0, 0.15);\n",
              "      filter: drop-shadow(0px 1px 2px rgba(0, 0, 0, 0.3));\n",
              "      fill: #FFFFFF;\n",
              "    }\n",
              "  </style>\n",
              "\n",
              "      <script>\n",
              "        const buttonEl =\n",
              "          document.querySelector('#df-5935a787-88df-49b1-805a-6d08048bbaab button.colab-df-convert');\n",
              "        buttonEl.style.display =\n",
              "          google.colab.kernel.accessAllowed ? 'block' : 'none';\n",
              "\n",
              "        async function convertToInteractive(key) {\n",
              "          const element = document.querySelector('#df-5935a787-88df-49b1-805a-6d08048bbaab');\n",
              "          const dataTable =\n",
              "            await google.colab.kernel.invokeFunction('convertToInteractive',\n",
              "                                                     [key], {});\n",
              "          if (!dataTable) return;\n",
              "\n",
              "          const docLinkHtml = 'Like what you see? Visit the ' +\n",
              "            '<a target=\"_blank\" href=https://colab.research.google.com/notebooks/data_table.ipynb>data table notebook</a>'\n",
              "            + ' to learn more about interactive tables.';\n",
              "          element.innerHTML = '';\n",
              "          dataTable['output_type'] = 'display_data';\n",
              "          await google.colab.output.renderOutput(dataTable, element);\n",
              "          const docLink = document.createElement('div');\n",
              "          docLink.innerHTML = docLinkHtml;\n",
              "          element.appendChild(docLink);\n",
              "        }\n",
              "      </script>\n",
              "    </div>\n",
              "  </div>\n",
              "  "
            ]
          },
          "metadata": {},
          "execution_count": 6
        }
      ]
    },
    {
      "cell_type": "code",
      "source": [
        "import numpy as np\n",
        "import matplotlib.pyplot as plt\n",
        "import seaborn as sns"
      ],
      "metadata": {
        "id": "VzLXN7FJB-69"
      },
      "execution_count": null,
      "outputs": []
    },
    {
      "cell_type": "code",
      "source": [
        "df.info()"
      ],
      "metadata": {
        "colab": {
          "base_uri": "https://localhost:8080/"
        },
        "id": "RwCvnk_JDie8",
        "outputId": "82861a74-7757-489e-edf4-ccf7f7d1d123"
      },
      "execution_count": null,
      "outputs": [
        {
          "output_type": "stream",
          "name": "stdout",
          "text": [
            "<class 'pandas.core.frame.DataFrame'>\n",
            "RangeIndex: 151 entries, 0 to 150\n",
            "Data columns (total 17 columns):\n",
            " #   Column          Non-Null Count  Dtype  \n",
            "---  ------          --------------  -----  \n",
            " 0   id              151 non-null    int64  \n",
            " 1   num             151 non-null    object \n",
            " 2   name            151 non-null    object \n",
            " 3   img             151 non-null    object \n",
            " 4   type            151 non-null    object \n",
            " 5   height          151 non-null    object \n",
            " 6   weight          151 non-null    object \n",
            " 7   candy           151 non-null    object \n",
            " 8   candy_count     151 non-null    int64  \n",
            " 9   egg             151 non-null    object \n",
            " 10  spawn_chance    151 non-null    float64\n",
            " 11  avg_spawns      151 non-null    float64\n",
            " 12  spawn_time      151 non-null    object \n",
            " 13  weakness        151 non-null    object \n",
            " 14  next_evolution  151 non-null    object \n",
            " 15  prev_evolution  151 non-null    object \n",
            " 16  multipliers     151 non-null    object \n",
            "dtypes: float64(2), int64(2), object(13)\n",
            "memory usage: 20.2+ KB\n"
          ]
        }
      ]
    },
    {
      "cell_type": "code",
      "source": [
        "df.shape"
      ],
      "metadata": {
        "colab": {
          "base_uri": "https://localhost:8080/"
        },
        "id": "FgJsBoqcDzkJ",
        "outputId": "28a762a1-7a63-4cf6-b731-7a43ae277c52"
      },
      "execution_count": null,
      "outputs": [
        {
          "output_type": "execute_result",
          "data": {
            "text/plain": [
              "(151, 17)"
            ]
          },
          "metadata": {},
          "execution_count": 9
        }
      ]
    },
    {
      "cell_type": "code",
      "source": [
        "df.describe()"
      ],
      "metadata": {
        "colab": {
          "base_uri": "https://localhost:8080/",
          "height": 300
        },
        "id": "5LmcOrA0D_LP",
        "outputId": "71a0b5ba-10f1-46c9-fc25-e4f06b7c8e55"
      },
      "execution_count": null,
      "outputs": [
        {
          "output_type": "execute_result",
          "data": {
            "text/plain": [
              "               id  candy_count  spawn_chance  avg_spawns\n",
              "count  151.000000   151.000000    151.000000  151.000000\n",
              "mean    76.000000    26.562914      0.731985   53.992603\n",
              "std     43.734045    43.837819      1.956376  111.156064\n",
              "min      1.000000     0.000000      0.000000    0.000000\n",
              "25%     38.500000     0.000000      0.015500    1.450000\n",
              "50%     76.000000     0.000000      0.074000    7.200000\n",
              "75%    113.500000    50.000000      0.620000   55.000000\n",
              "max    151.000000   400.000000     15.980000  712.000000"
            ],
            "text/html": [
              "\n",
              "  <div id=\"df-08040649-3a5a-43f4-9e3d-233cc35ae87e\">\n",
              "    <div class=\"colab-df-container\">\n",
              "      <div>\n",
              "<style scoped>\n",
              "    .dataframe tbody tr th:only-of-type {\n",
              "        vertical-align: middle;\n",
              "    }\n",
              "\n",
              "    .dataframe tbody tr th {\n",
              "        vertical-align: top;\n",
              "    }\n",
              "\n",
              "    .dataframe thead th {\n",
              "        text-align: right;\n",
              "    }\n",
              "</style>\n",
              "<table border=\"1\" class=\"dataframe\">\n",
              "  <thead>\n",
              "    <tr style=\"text-align: right;\">\n",
              "      <th></th>\n",
              "      <th>id</th>\n",
              "      <th>candy_count</th>\n",
              "      <th>spawn_chance</th>\n",
              "      <th>avg_spawns</th>\n",
              "    </tr>\n",
              "  </thead>\n",
              "  <tbody>\n",
              "    <tr>\n",
              "      <th>count</th>\n",
              "      <td>151.000000</td>\n",
              "      <td>151.000000</td>\n",
              "      <td>151.000000</td>\n",
              "      <td>151.000000</td>\n",
              "    </tr>\n",
              "    <tr>\n",
              "      <th>mean</th>\n",
              "      <td>76.000000</td>\n",
              "      <td>26.562914</td>\n",
              "      <td>0.731985</td>\n",
              "      <td>53.992603</td>\n",
              "    </tr>\n",
              "    <tr>\n",
              "      <th>std</th>\n",
              "      <td>43.734045</td>\n",
              "      <td>43.837819</td>\n",
              "      <td>1.956376</td>\n",
              "      <td>111.156064</td>\n",
              "    </tr>\n",
              "    <tr>\n",
              "      <th>min</th>\n",
              "      <td>1.000000</td>\n",
              "      <td>0.000000</td>\n",
              "      <td>0.000000</td>\n",
              "      <td>0.000000</td>\n",
              "    </tr>\n",
              "    <tr>\n",
              "      <th>25%</th>\n",
              "      <td>38.500000</td>\n",
              "      <td>0.000000</td>\n",
              "      <td>0.015500</td>\n",
              "      <td>1.450000</td>\n",
              "    </tr>\n",
              "    <tr>\n",
              "      <th>50%</th>\n",
              "      <td>76.000000</td>\n",
              "      <td>0.000000</td>\n",
              "      <td>0.074000</td>\n",
              "      <td>7.200000</td>\n",
              "    </tr>\n",
              "    <tr>\n",
              "      <th>75%</th>\n",
              "      <td>113.500000</td>\n",
              "      <td>50.000000</td>\n",
              "      <td>0.620000</td>\n",
              "      <td>55.000000</td>\n",
              "    </tr>\n",
              "    <tr>\n",
              "      <th>max</th>\n",
              "      <td>151.000000</td>\n",
              "      <td>400.000000</td>\n",
              "      <td>15.980000</td>\n",
              "      <td>712.000000</td>\n",
              "    </tr>\n",
              "  </tbody>\n",
              "</table>\n",
              "</div>\n",
              "      <button class=\"colab-df-convert\" onclick=\"convertToInteractive('df-08040649-3a5a-43f4-9e3d-233cc35ae87e')\"\n",
              "              title=\"Convert this dataframe to an interactive table.\"\n",
              "              style=\"display:none;\">\n",
              "        \n",
              "  <svg xmlns=\"http://www.w3.org/2000/svg\" height=\"24px\"viewBox=\"0 0 24 24\"\n",
              "       width=\"24px\">\n",
              "    <path d=\"M0 0h24v24H0V0z\" fill=\"none\"/>\n",
              "    <path d=\"M18.56 5.44l.94 2.06.94-2.06 2.06-.94-2.06-.94-.94-2.06-.94 2.06-2.06.94zm-11 1L8.5 8.5l.94-2.06 2.06-.94-2.06-.94L8.5 2.5l-.94 2.06-2.06.94zm10 10l.94 2.06.94-2.06 2.06-.94-2.06-.94-.94-2.06-.94 2.06-2.06.94z\"/><path d=\"M17.41 7.96l-1.37-1.37c-.4-.4-.92-.59-1.43-.59-.52 0-1.04.2-1.43.59L10.3 9.45l-7.72 7.72c-.78.78-.78 2.05 0 2.83L4 21.41c.39.39.9.59 1.41.59.51 0 1.02-.2 1.41-.59l7.78-7.78 2.81-2.81c.8-.78.8-2.07 0-2.86zM5.41 20L4 18.59l7.72-7.72 1.47 1.35L5.41 20z\"/>\n",
              "  </svg>\n",
              "      </button>\n",
              "      \n",
              "  <style>\n",
              "    .colab-df-container {\n",
              "      display:flex;\n",
              "      flex-wrap:wrap;\n",
              "      gap: 12px;\n",
              "    }\n",
              "\n",
              "    .colab-df-convert {\n",
              "      background-color: #E8F0FE;\n",
              "      border: none;\n",
              "      border-radius: 50%;\n",
              "      cursor: pointer;\n",
              "      display: none;\n",
              "      fill: #1967D2;\n",
              "      height: 32px;\n",
              "      padding: 0 0 0 0;\n",
              "      width: 32px;\n",
              "    }\n",
              "\n",
              "    .colab-df-convert:hover {\n",
              "      background-color: #E2EBFA;\n",
              "      box-shadow: 0px 1px 2px rgba(60, 64, 67, 0.3), 0px 1px 3px 1px rgba(60, 64, 67, 0.15);\n",
              "      fill: #174EA6;\n",
              "    }\n",
              "\n",
              "    [theme=dark] .colab-df-convert {\n",
              "      background-color: #3B4455;\n",
              "      fill: #D2E3FC;\n",
              "    }\n",
              "\n",
              "    [theme=dark] .colab-df-convert:hover {\n",
              "      background-color: #434B5C;\n",
              "      box-shadow: 0px 1px 3px 1px rgba(0, 0, 0, 0.15);\n",
              "      filter: drop-shadow(0px 1px 2px rgba(0, 0, 0, 0.3));\n",
              "      fill: #FFFFFF;\n",
              "    }\n",
              "  </style>\n",
              "\n",
              "      <script>\n",
              "        const buttonEl =\n",
              "          document.querySelector('#df-08040649-3a5a-43f4-9e3d-233cc35ae87e button.colab-df-convert');\n",
              "        buttonEl.style.display =\n",
              "          google.colab.kernel.accessAllowed ? 'block' : 'none';\n",
              "\n",
              "        async function convertToInteractive(key) {\n",
              "          const element = document.querySelector('#df-08040649-3a5a-43f4-9e3d-233cc35ae87e');\n",
              "          const dataTable =\n",
              "            await google.colab.kernel.invokeFunction('convertToInteractive',\n",
              "                                                     [key], {});\n",
              "          if (!dataTable) return;\n",
              "\n",
              "          const docLinkHtml = 'Like what you see? Visit the ' +\n",
              "            '<a target=\"_blank\" href=https://colab.research.google.com/notebooks/data_table.ipynb>data table notebook</a>'\n",
              "            + ' to learn more about interactive tables.';\n",
              "          element.innerHTML = '';\n",
              "          dataTable['output_type'] = 'display_data';\n",
              "          await google.colab.output.renderOutput(dataTable, element);\n",
              "          const docLink = document.createElement('div');\n",
              "          docLink.innerHTML = docLinkHtml;\n",
              "          element.appendChild(docLink);\n",
              "        }\n",
              "      </script>\n",
              "    </div>\n",
              "  </div>\n",
              "  "
            ]
          },
          "metadata": {},
          "execution_count": 10
        }
      ]
    },
    {
      "cell_type": "code",
      "source": [
        "df.head(2)"
      ],
      "metadata": {
        "colab": {
          "base_uri": "https://localhost:8080/",
          "height": 245
        },
        "id": "VlVY1NtkEK6n",
        "outputId": "43913129-f695-4ef0-f16d-4ad59ac51f8e"
      },
      "execution_count": null,
      "outputs": [
        {
          "output_type": "execute_result",
          "data": {
            "text/plain": [
              "   id  num       name                                               img  \\\n",
              "0   1  001  Bulbasaur  http://www.serebii.net/pokemongo/pokemon/001.png   \n",
              "1   2  002    Ivysaur  http://www.serebii.net/pokemongo/pokemon/002.png   \n",
              "\n",
              "            type  height   weight            candy  candy_count          egg  \\\n",
              "0  Grass, Poison  0.71 m   6.9 kg  Bulbasaur Candy           25         2 km   \n",
              "1  Grass, Poison  0.99 m  13.0 kg  Bulbasaur Candy          100  Not in Eggs   \n",
              "\n",
              "   spawn_chance  avg_spawns spawn_time                    weakness  \\\n",
              "0         0.690        69.0      20:00  Fire, Ice, Flying, Psychic   \n",
              "1         0.042         4.2      07:00  Fire, Ice, Flying, Psychic   \n",
              "\n",
              "      next_evolution prev_evolution multipliers  \n",
              "0  Ivysaur, Venusaur                       1.58  \n",
              "1           Venusaur      Bulbasaur    1.2, 1.6  "
            ],
            "text/html": [
              "\n",
              "  <div id=\"df-32e93276-112e-4485-8a7c-be0c9eb346a9\">\n",
              "    <div class=\"colab-df-container\">\n",
              "      <div>\n",
              "<style scoped>\n",
              "    .dataframe tbody tr th:only-of-type {\n",
              "        vertical-align: middle;\n",
              "    }\n",
              "\n",
              "    .dataframe tbody tr th {\n",
              "        vertical-align: top;\n",
              "    }\n",
              "\n",
              "    .dataframe thead th {\n",
              "        text-align: right;\n",
              "    }\n",
              "</style>\n",
              "<table border=\"1\" class=\"dataframe\">\n",
              "  <thead>\n",
              "    <tr style=\"text-align: right;\">\n",
              "      <th></th>\n",
              "      <th>id</th>\n",
              "      <th>num</th>\n",
              "      <th>name</th>\n",
              "      <th>img</th>\n",
              "      <th>type</th>\n",
              "      <th>height</th>\n",
              "      <th>weight</th>\n",
              "      <th>candy</th>\n",
              "      <th>candy_count</th>\n",
              "      <th>egg</th>\n",
              "      <th>spawn_chance</th>\n",
              "      <th>avg_spawns</th>\n",
              "      <th>spawn_time</th>\n",
              "      <th>weakness</th>\n",
              "      <th>next_evolution</th>\n",
              "      <th>prev_evolution</th>\n",
              "      <th>multipliers</th>\n",
              "    </tr>\n",
              "  </thead>\n",
              "  <tbody>\n",
              "    <tr>\n",
              "      <th>0</th>\n",
              "      <td>1</td>\n",
              "      <td>001</td>\n",
              "      <td>Bulbasaur</td>\n",
              "      <td>http://www.serebii.net/pokemongo/pokemon/001.png</td>\n",
              "      <td>Grass, Poison</td>\n",
              "      <td>0.71 m</td>\n",
              "      <td>6.9 kg</td>\n",
              "      <td>Bulbasaur Candy</td>\n",
              "      <td>25</td>\n",
              "      <td>2 km</td>\n",
              "      <td>0.690</td>\n",
              "      <td>69.0</td>\n",
              "      <td>20:00</td>\n",
              "      <td>Fire, Ice, Flying, Psychic</td>\n",
              "      <td>Ivysaur, Venusaur</td>\n",
              "      <td></td>\n",
              "      <td>1.58</td>\n",
              "    </tr>\n",
              "    <tr>\n",
              "      <th>1</th>\n",
              "      <td>2</td>\n",
              "      <td>002</td>\n",
              "      <td>Ivysaur</td>\n",
              "      <td>http://www.serebii.net/pokemongo/pokemon/002.png</td>\n",
              "      <td>Grass, Poison</td>\n",
              "      <td>0.99 m</td>\n",
              "      <td>13.0 kg</td>\n",
              "      <td>Bulbasaur Candy</td>\n",
              "      <td>100</td>\n",
              "      <td>Not in Eggs</td>\n",
              "      <td>0.042</td>\n",
              "      <td>4.2</td>\n",
              "      <td>07:00</td>\n",
              "      <td>Fire, Ice, Flying, Psychic</td>\n",
              "      <td>Venusaur</td>\n",
              "      <td>Bulbasaur</td>\n",
              "      <td>1.2, 1.6</td>\n",
              "    </tr>\n",
              "  </tbody>\n",
              "</table>\n",
              "</div>\n",
              "      <button class=\"colab-df-convert\" onclick=\"convertToInteractive('df-32e93276-112e-4485-8a7c-be0c9eb346a9')\"\n",
              "              title=\"Convert this dataframe to an interactive table.\"\n",
              "              style=\"display:none;\">\n",
              "        \n",
              "  <svg xmlns=\"http://www.w3.org/2000/svg\" height=\"24px\"viewBox=\"0 0 24 24\"\n",
              "       width=\"24px\">\n",
              "    <path d=\"M0 0h24v24H0V0z\" fill=\"none\"/>\n",
              "    <path d=\"M18.56 5.44l.94 2.06.94-2.06 2.06-.94-2.06-.94-.94-2.06-.94 2.06-2.06.94zm-11 1L8.5 8.5l.94-2.06 2.06-.94-2.06-.94L8.5 2.5l-.94 2.06-2.06.94zm10 10l.94 2.06.94-2.06 2.06-.94-2.06-.94-.94-2.06-.94 2.06-2.06.94z\"/><path d=\"M17.41 7.96l-1.37-1.37c-.4-.4-.92-.59-1.43-.59-.52 0-1.04.2-1.43.59L10.3 9.45l-7.72 7.72c-.78.78-.78 2.05 0 2.83L4 21.41c.39.39.9.59 1.41.59.51 0 1.02-.2 1.41-.59l7.78-7.78 2.81-2.81c.8-.78.8-2.07 0-2.86zM5.41 20L4 18.59l7.72-7.72 1.47 1.35L5.41 20z\"/>\n",
              "  </svg>\n",
              "      </button>\n",
              "      \n",
              "  <style>\n",
              "    .colab-df-container {\n",
              "      display:flex;\n",
              "      flex-wrap:wrap;\n",
              "      gap: 12px;\n",
              "    }\n",
              "\n",
              "    .colab-df-convert {\n",
              "      background-color: #E8F0FE;\n",
              "      border: none;\n",
              "      border-radius: 50%;\n",
              "      cursor: pointer;\n",
              "      display: none;\n",
              "      fill: #1967D2;\n",
              "      height: 32px;\n",
              "      padding: 0 0 0 0;\n",
              "      width: 32px;\n",
              "    }\n",
              "\n",
              "    .colab-df-convert:hover {\n",
              "      background-color: #E2EBFA;\n",
              "      box-shadow: 0px 1px 2px rgba(60, 64, 67, 0.3), 0px 1px 3px 1px rgba(60, 64, 67, 0.15);\n",
              "      fill: #174EA6;\n",
              "    }\n",
              "\n",
              "    [theme=dark] .colab-df-convert {\n",
              "      background-color: #3B4455;\n",
              "      fill: #D2E3FC;\n",
              "    }\n",
              "\n",
              "    [theme=dark] .colab-df-convert:hover {\n",
              "      background-color: #434B5C;\n",
              "      box-shadow: 0px 1px 3px 1px rgba(0, 0, 0, 0.15);\n",
              "      filter: drop-shadow(0px 1px 2px rgba(0, 0, 0, 0.3));\n",
              "      fill: #FFFFFF;\n",
              "    }\n",
              "  </style>\n",
              "\n",
              "      <script>\n",
              "        const buttonEl =\n",
              "          document.querySelector('#df-32e93276-112e-4485-8a7c-be0c9eb346a9 button.colab-df-convert');\n",
              "        buttonEl.style.display =\n",
              "          google.colab.kernel.accessAllowed ? 'block' : 'none';\n",
              "\n",
              "        async function convertToInteractive(key) {\n",
              "          const element = document.querySelector('#df-32e93276-112e-4485-8a7c-be0c9eb346a9');\n",
              "          const dataTable =\n",
              "            await google.colab.kernel.invokeFunction('convertToInteractive',\n",
              "                                                     [key], {});\n",
              "          if (!dataTable) return;\n",
              "\n",
              "          const docLinkHtml = 'Like what you see? Visit the ' +\n",
              "            '<a target=\"_blank\" href=https://colab.research.google.com/notebooks/data_table.ipynb>data table notebook</a>'\n",
              "            + ' to learn more about interactive tables.';\n",
              "          element.innerHTML = '';\n",
              "          dataTable['output_type'] = 'display_data';\n",
              "          await google.colab.output.renderOutput(dataTable, element);\n",
              "          const docLink = document.createElement('div');\n",
              "          docLink.innerHTML = docLinkHtml;\n",
              "          element.appendChild(docLink);\n",
              "        }\n",
              "      </script>\n",
              "    </div>\n",
              "  </div>\n",
              "  "
            ]
          },
          "metadata": {},
          "execution_count": 11
        }
      ]
    },
    {
      "cell_type": "code",
      "source": [
        "df['egg'].unique()"
      ],
      "metadata": {
        "colab": {
          "base_uri": "https://localhost:8080/"
        },
        "id": "LU4XGxx3Ekvs",
        "outputId": "5c241aa3-5196-471b-9368-28d2cf36930a"
      },
      "execution_count": null,
      "outputs": [
        {
          "output_type": "execute_result",
          "data": {
            "text/plain": [
              "array(['2 km', 'Not in Eggs', '5 km', '10 km', 'Omanyte Candy'],\n",
              "      dtype=object)"
            ]
          },
          "metadata": {},
          "execution_count": 12
        }
      ]
    },
    {
      "cell_type": "code",
      "source": [
        "df['egg'] = df['egg'].str.replace(\"Omanyte Candy\",'0')"
      ],
      "metadata": {
        "id": "rrAmvltkFEZN"
      },
      "execution_count": null,
      "outputs": []
    },
    {
      "cell_type": "code",
      "source": [
        "df['prev_evolution'].unique()"
      ],
      "metadata": {
        "colab": {
          "base_uri": "https://localhost:8080/"
        },
        "id": "OhPOB-H4GMdd",
        "outputId": "e7de1672-e8e1-4e1b-85e3-518d63bba3a7"
      },
      "execution_count": null,
      "outputs": [
        {
          "output_type": "execute_result",
          "data": {
            "text/plain": [
              "array(['', 'Bulbasaur', 'Bulbasaur, Ivysaur', 'Charmander',\n",
              "       'Charmander, Charmeleon', 'Squirtle', 'Squirtle, Wartortle',\n",
              "       'Caterpie', 'Caterpie, Metapod', 'Weedle', 'Weedle, Kakuna',\n",
              "       'Pidgey', 'Pidgey, Pidgeotto', 'Rattata', 'Spearow', 'Ekans',\n",
              "       'Pikachu', 'Sandshrew', 'Nidoran(Female)',\n",
              "       'Nidoran(Female), Nidorina', 'Nidoran(Male)',\n",
              "       'Nidoran(Male), Nidorino', 'Clefairy', 'Vulpix', 'Jigglypuff',\n",
              "       'Zubat', 'Oddish', 'Oddish, Gloom', 'Paras', 'Venonat', 'Diglett',\n",
              "       'Meowth', 'Psyduck', 'Mankey', 'Growlithe', 'Poliwag',\n",
              "       'Poliwag, Poliwhirl', 'Abra', 'Abra, Kadabra', 'Machop',\n",
              "       'Machop, Machoke', 'Bellsprout', 'Bellsprout, Weepinbell',\n",
              "       'Tentacool', 'Geodude', 'Geodude, Graveler', 'Ponyta', 'Slowpoke',\n",
              "       'Magnemite', 'Doduo', 'Seel', 'Grimer', 'Shellder', 'Gastly',\n",
              "       'Gastly, Haunter', 'Drowzee', 'Krabby', 'Voltorb', 'Exeggcute',\n",
              "       'Cubone', 'Koffing', 'Rhyhorn', 'Horsea', 'Goldeen', 'Staryu',\n",
              "       'Magikarp', 'Eevee', 'Omanyte', 'Kabuto', 'Dratini',\n",
              "       'Dratini, Dragonair'], dtype=object)"
            ]
          },
          "metadata": {},
          "execution_count": 14
        }
      ]
    },
    {
      "cell_type": "code",
      "source": [
        "df.columns"
      ],
      "metadata": {
        "colab": {
          "base_uri": "https://localhost:8080/"
        },
        "id": "BBbDna4vGRqm",
        "outputId": "de9bec5f-4e8f-4709-b3e3-089f89a71f44"
      },
      "execution_count": null,
      "outputs": [
        {
          "output_type": "execute_result",
          "data": {
            "text/plain": [
              "Index(['id', 'num', 'name', 'img', 'type', 'height', 'weight', 'candy',\n",
              "       'candy_count', 'egg', 'spawn_chance', 'avg_spawns', 'spawn_time',\n",
              "       'weakness', 'next_evolution', 'prev_evolution', 'multipliers'],\n",
              "      dtype='object')"
            ]
          },
          "metadata": {},
          "execution_count": 15
        }
      ]
    },
    {
      "cell_type": "code",
      "source": [
        "pokemon_type_counts = df['type'].value_counts()\n",
        "plt.figure(figsize=(10, 6))\n",
        "pokemon_type_counts.plot(kind='bar')\n",
        "plt.title(\"Pokémon Count by Type\")\n",
        "plt.xlabel(\"Type\")\n",
        "plt.ylabel(\"Count\")\n",
        "plt.show()"
      ],
      "metadata": {
        "colab": {
          "base_uri": "https://localhost:8080/",
          "height": 656
        },
        "id": "ZtQgWN11HbII",
        "outputId": "80442fac-88ab-47da-91ca-20108fc803c3"
      },
      "execution_count": null,
      "outputs": [
        {
          "output_type": "display_data",
          "data": {
            "text/plain": [
              "<Figure size 1000x600 with 1 Axes>"
            ],
            "image/png": "[encoded data removed]"
          },
          "metadata": {}
        }
      ]
    },
    {
      "cell_type": "code",
      "source": [
        "pokemon_egg_counts = df['egg'].value_counts()\n",
        "plt.figure(figsize=(10, 6))\n",
        "pokemon_egg_counts.plot(kind='bar')\n",
        "plt.title(\"Pokémon Count by Egg Type\")\n",
        "plt.xlabel(\"Egg Type\")\n",
        "plt.ylabel(\"Count\")\n",
        "plt.show()"
      ],
      "metadata": {
        "colab": {
          "base_uri": "https://localhost:8080/",
          "height": 630
        },
        "id": "w5cjIDkWI88N",
        "outputId": "32f9ca50-3c1a-45be-9383-1f1e2aed59ba"
      },
      "execution_count": null,
      "outputs": [
        {
          "output_type": "display_data",
          "data": {
            "text/plain": [
              "<Figure size 1000x600 with 1 Axes>"
            ],
            "image/png": "[encoded data removed]"
          },
          "metadata": {}
        }
      ]
    },
    {
      "cell_type": "code",
      "source": [
        "df.head(2)"
      ],
      "metadata": {
        "colab": {
          "base_uri": "https://localhost:8080/",
          "height": 228
        },
        "id": "KV-la9y8JSPq",
        "outputId": "6245ff7d-f2ae-4344-c722-287561655f09"
      },
      "execution_count": null,
      "outputs": [
        {
          "output_type": "execute_result",
          "data": {
            "text/plain": [
              "   id  num       name                                               img  \\\n",
              "0   1  001  Bulbasaur  http://www.serebii.net/pokemongo/pokemon/001.png   \n",
              "1   2  002    Ivysaur  http://www.serebii.net/pokemongo/pokemon/002.png   \n",
              "\n",
              "           type  height   weight            candy  candy_count          egg  \\\n",
              "0  Grass,Poison  0.71 m   6.9 kg  Bulbasaur Candy           25         2 km   \n",
              "1  Grass,Poison  0.99 m  13.0 kg  Bulbasaur Candy          100  Not in Eggs   \n",
              "\n",
              "   spawn_chance  avg_spawns spawn_time multipliers               weaknesses  \\\n",
              "0         0.690        69.0      20:00      [1.58]  Fire,Ice,Flying,Psychic   \n",
              "1         0.042         4.2      07:00  [1.2, 1.6]  Fire,Ice,Flying,Psychic   \n",
              "\n",
              "               next_evolution  prev_evolution  \n",
              "0  002: Ivysaur,003: Venusaur                  \n",
              "1               003: Venusaur  001: Bulbasaur  "
            ],
            "text/html": [
              "\n",
              "  <div id=\"df-f7b9375f-1e61-4ee9-9b06-b2bdc38f2953\">\n",
              "    <div class=\"colab-df-container\">\n",
              "      <div>\n",
              "<style scoped>\n",
              "    .dataframe tbody tr th:only-of-type {\n",
              "        vertical-align: middle;\n",
              "    }\n",
              "\n",
              "    .dataframe tbody tr th {\n",
              "        vertical-align: top;\n",
              "    }\n",
              "\n",
              "    .dataframe thead th {\n",
              "        text-align: right;\n",
              "    }\n",
              "</style>\n",
              "<table border=\"1\" class=\"dataframe\">\n",
              "  <thead>\n",
              "    <tr style=\"text-align: right;\">\n",
              "      <th></th>\n",
              "      <th>id</th>\n",
              "      <th>num</th>\n",
              "      <th>name</th>\n",
              "      <th>img</th>\n",
              "      <th>type</th>\n",
              "      <th>height</th>\n",
              "      <th>weight</th>\n",
              "      <th>candy</th>\n",
              "      <th>candy_count</th>\n",
              "      <th>egg</th>\n",
              "      <th>spawn_chance</th>\n",
              "      <th>avg_spawns</th>\n",
              "      <th>spawn_time</th>\n",
              "      <th>multipliers</th>\n",
              "      <th>weaknesses</th>\n",
              "      <th>next_evolution</th>\n",
              "      <th>prev_evolution</th>\n",
              "    </tr>\n",
              "  </thead>\n",
              "  <tbody>\n",
              "    <tr>\n",
              "      <th>0</th>\n",
              "      <td>1</td>\n",
              "      <td>001</td>\n",
              "      <td>Bulbasaur</td>\n",
              "      <td>http://www.serebii.net/pokemongo/pokemon/001.png</td>\n",
              "      <td>Grass,Poison</td>\n",
              "      <td>0.71 m</td>\n",
              "      <td>6.9 kg</td>\n",
              "      <td>Bulbasaur Candy</td>\n",
              "      <td>25</td>\n",
              "      <td>2 km</td>\n",
              "      <td>0.690</td>\n",
              "      <td>69.0</td>\n",
              "      <td>20:00</td>\n",
              "      <td>[1.58]</td>\n",
              "      <td>Fire,Ice,Flying,Psychic</td>\n",
              "      <td>002: Ivysaur,003: Venusaur</td>\n",
              "      <td></td>\n",
              "    </tr>\n",
              "    <tr>\n",
              "      <th>1</th>\n",
              "      <td>2</td>\n",
              "      <td>002</td>\n",
              "      <td>Ivysaur</td>\n",
              "      <td>http://www.serebii.net/pokemongo/pokemon/002.png</td>\n",
              "      <td>Grass,Poison</td>\n",
              "      <td>0.99 m</td>\n",
              "      <td>13.0 kg</td>\n",
              "      <td>Bulbasaur Candy</td>\n",
              "      <td>100</td>\n",
              "      <td>Not in Eggs</td>\n",
              "      <td>0.042</td>\n",
              "      <td>4.2</td>\n",
              "      <td>07:00</td>\n",
              "      <td>[1.2, 1.6]</td>\n",
              "      <td>Fire,Ice,Flying,Psychic</td>\n",
              "      <td>003: Venusaur</td>\n",
              "      <td>001: Bulbasaur</td>\n",
              "    </tr>\n",
              "  </tbody>\n",
              "</table>\n",
              "</div>\n",
              "      <button class=\"colab-df-convert\" onclick=\"convertToInteractive('df-f7b9375f-1e61-4ee9-9b06-b2bdc38f2953')\"\n",
              "              title=\"Convert this dataframe to an interactive table.\"\n",
              "              style=\"display:none;\">\n",
              "        \n",
              "  <svg xmlns=\"http://www.w3.org/2000/svg\" height=\"24px\"viewBox=\"0 0 24 24\"\n",
              "       width=\"24px\">\n",
              "    <path d=\"M0 0h24v24H0V0z\" fill=\"none\"/>\n",
              "    <path d=\"M18.56 5.44l.94 2.06.94-2.06 2.06-.94-2.06-.94-.94-2.06-.94 2.06-2.06.94zm-11 1L8.5 8.5l.94-2.06 2.06-.94-2.06-.94L8.5 2.5l-.94 2.06-2.06.94zm10 10l.94 2.06.94-2.06 2.06-.94-2.06-.94-.94-2.06-.94 2.06-2.06.94z\"/><path d=\"M17.41 7.96l-1.37-1.37c-.4-.4-.92-.59-1.43-.59-.52 0-1.04.2-1.43.59L10.3 9.45l-7.72 7.72c-.78.78-.78 2.05 0 2.83L4 21.41c.39.39.9.59 1.41.59.51 0 1.02-.2 1.41-.59l7.78-7.78 2.81-2.81c.8-.78.8-2.07 0-2.86zM5.41 20L4 18.59l7.72-7.72 1.47 1.35L5.41 20z\"/>\n",
              "  </svg>\n",
              "      </button>\n",
              "      \n",
              "  <style>\n",
              "    .colab-df-container {\n",
              "      display:flex;\n",
              "      flex-wrap:wrap;\n",
              "      gap: 12px;\n",
              "    }\n",
              "\n",
              "    .colab-df-convert {\n",
              "      background-color: #E8F0FE;\n",
              "      border: none;\n",
              "      border-radius: 50%;\n",
              "      cursor: pointer;\n",
              "      display: none;\n",
              "      fill: #1967D2;\n",
              "      height: 32px;\n",
              "      padding: 0 0 0 0;\n",
              "      width: 32px;\n",
              "    }\n",
              "\n",
              "    .colab-df-convert:hover {\n",
              "      background-color: #E2EBFA;\n",
              "      box-shadow: 0px 1px 2px rgba(60, 64, 67, 0.3), 0px 1px 3px 1px rgba(60, 64, 67, 0.15);\n",
              "      fill: #174EA6;\n",
              "    }\n",
              "\n",
              "    [theme=dark] .colab-df-convert {\n",
              "      background-color: #3B4455;\n",
              "      fill: #D2E3FC;\n",
              "    }\n",
              "\n",
              "    [theme=dark] .colab-df-convert:hover {\n",
              "      background-color: #434B5C;\n",
              "      box-shadow: 0px 1px 3px 1px rgba(0, 0, 0, 0.15);\n",
              "      filter: drop-shadow(0px 1px 2px rgba(0, 0, 0, 0.3));\n",
              "      fill: #FFFFFF;\n",
              "    }\n",
              "  </style>\n",
              "\n",
              "      <script>\n",
              "        const buttonEl =\n",
              "          document.querySelector('#df-f7b9375f-1e61-4ee9-9b06-b2bdc38f2953 button.colab-df-convert');\n",
              "        buttonEl.style.display =\n",
              "          google.colab.kernel.accessAllowed ? 'block' : 'none';\n",
              "\n",
              "        async function convertToInteractive(key) {\n",
              "          const element = document.querySelector('#df-f7b9375f-1e61-4ee9-9b06-b2bdc38f2953');\n",
              "          const dataTable =\n",
              "            await google.colab.kernel.invokeFunction('convertToInteractive',\n",
              "                                                     [key], {});\n",
              "          if (!dataTable) return;\n",
              "\n",
              "          const docLinkHtml = 'Like what you see? Visit the ' +\n",
              "            '<a target=\"_blank\" href=https://colab.research.google.com/notebooks/data_table.ipynb>data table notebook</a>'\n",
              "            + ' to learn more about interactive tables.';\n",
              "          element.innerHTML = '';\n",
              "          dataTable['output_type'] = 'display_data';\n",
              "          await google.colab.output.renderOutput(dataTable, element);\n",
              "          const docLink = document.createElement('div');\n",
              "          docLink.innerHTML = docLinkHtml;\n",
              "          element.appendChild(docLink);\n",
              "        }\n",
              "      </script>\n",
              "    </div>\n",
              "  </div>\n",
              "  "
            ]
          },
          "metadata": {},
          "execution_count": 107
        }
      ]
    },
    {
      "cell_type": "markdown",
      "source": [
        "1.  Get all Pokemons whose spawn rate is less than 5%"
      ],
      "metadata": {
        "id": "YP9v-ta2LRCF"
      }
    },
    {
      "cell_type": "code",
      "source": [
        "spawn_rate = 0.05  \n",
        "low_spawn_pokemon = df[df['spawn_chance'] < spawn_rate]\n",
        "print(\"Pokemons with spawn rate less than 5%:\")\n",
        "print(low_spawn_pokemon[['name', 'spawn_chance']])"
      ],
      "metadata": {
        "colab": {
          "base_uri": "https://localhost:8080/"
        },
        "id": "cTqnMM7kK2dP",
        "outputId": "116f6b02-328f-4d0a-f6c7-163856c82ef8"
      },
      "execution_count": null,
      "outputs": [
        {
          "output_type": "stream",
          "name": "stdout",
          "text": [
            "Pokemons with spawn rate less than 5%:\n",
            "           name  spawn_chance\n",
            "1       Ivysaur        0.0420\n",
            "2      Venusaur        0.0170\n",
            "4    Charmeleon        0.0120\n",
            "5     Charizard        0.0031\n",
            "7     Wartortle        0.0340\n",
            "..          ...           ...\n",
            "145     Moltres        0.0000\n",
            "147   Dragonair        0.0200\n",
            "148   Dragonite        0.0011\n",
            "149      Mewtwo        0.0000\n",
            "150         Mew        0.0000\n",
            "\n",
            "[65 rows x 2 columns]\n"
          ]
        }
      ]
    },
    {
      "cell_type": "code",
      "source": [
        "plt.figure(figsize=(10, 6))\n",
        "plt.hist(low_spawn_pokemon['spawn_chance'], bins=10, edgecolor='black')\n",
        "plt.title(\"Pokémon Spawn Rate Distribution\")\n",
        "plt.xlabel(\"Spawn Rate\")\n",
        "plt.ylabel(\"Count\")\n",
        "plt.show()"
      ],
      "metadata": {
        "colab": {
          "base_uri": "https://localhost:8080/",
          "height": 565
        },
        "id": "5CNCJGj7M2wx",
        "outputId": "da7c0c46-da6c-4538-f8b6-c8ddb28dd68f"
      },
      "execution_count": null,
      "outputs": [
        {
          "output_type": "display_data",
          "data": {
            "text/plain": [
              "<Figure size 1000x600 with 1 Axes>"
            ],
            "image/png": "[encoded data removed]"
          },
          "metadata": {}
        }
      ]
    },
    {
      "cell_type": "code",
      "source": [
        "plt.figure(figsize=(10, 6))\n",
        "plt.scatter(low_spawn_pokemon['spawn_chance'], low_spawn_pokemon['weight'])\n",
        "plt.title(\"Pokémon Spawn Rate vs. Weight\")\n",
        "plt.xlabel(\"Spawn Rate\")\n",
        "plt.ylabel(\"Weight\")\n",
        "plt.show()"
      ],
      "metadata": {
        "colab": {
          "base_uri": "https://localhost:8080/",
          "height": 565
        },
        "id": "Cc8m9wX6NOet",
        "outputId": "e06fe6d0-0626-4a46-aee6-4bab7f29924c"
      },
      "execution_count": null,
      "outputs": [
        {
          "output_type": "display_data",
          "data": {
            "text/plain": [
              "<Figure size 1000x600 with 1 Axes>"
            ],
            "image/png": "[encoded data removed]"
          },
          "metadata": {}
        }
      ]
    },
    {
      "cell_type": "markdown",
      "source": [
        "2. Get all Pokemons that have less than 4 weaknesses\n"
      ],
      "metadata": {
        "id": "O0YJJXWpLdCY"
      }
    },
    {
      "cell_type": "code",
      "source": [
        "max_weakness_count = 4\n",
        "pokemon_with_few_weaknesses = df[df['weaknesses'].str.count(',') < max_weakness_count]\n",
        "print(\"Pokémon with less than 4 weaknesses:\")\n",
        "print(pokemon_with_few_weaknesses[['name', 'weaknesses']])\n"
      ],
      "metadata": {
        "colab": {
          "base_uri": "https://localhost:8080/"
        },
        "id": "aHa9-yHJLKgf",
        "outputId": "be393169-9c94-4aa7-c8ac-d6461dcdd9c1"
      },
      "execution_count": null,
      "outputs": [
        {
          "output_type": "stream",
          "name": "stdout",
          "text": [
            "Pokémon with less than 4 weaknesses:\n",
            "           name               weaknesses\n",
            "0     Bulbasaur  Fire,Ice,Flying,Psychic\n",
            "1       Ivysaur  Fire,Ice,Flying,Psychic\n",
            "2      Venusaur  Fire,Ice,Flying,Psychic\n",
            "3    Charmander        Water,Ground,Rock\n",
            "4    Charmeleon        Water,Ground,Rock\n",
            "..          ...                      ...\n",
            "146     Dratini         Ice,Dragon,Fairy\n",
            "147   Dragonair         Ice,Dragon,Fairy\n",
            "148   Dragonite    Ice,Rock,Dragon,Fairy\n",
            "149      Mewtwo           Bug,Ghost,Dark\n",
            "150         Mew           Bug,Ghost,Dark\n",
            "\n",
            "[132 rows x 2 columns]\n"
          ]
        }
      ]
    },
    {
      "cell_type": "code",
      "source": [
        "pokemon_count_by_type = pokemon_with_few_weaknesses['type'].value_counts()\n",
        "plt.figure(figsize=(10, 6))\n",
        "pokemon_count_by_type.plot(kind='bar')\n",
        "plt.title(\"Pokémon with Less than 4 Weaknesses by Type\")\n",
        "plt.xlabel(\"Type\")\n",
        "plt.ylabel(\"Count\")\n",
        "plt.show()"
      ],
      "metadata": {
        "colab": {
          "base_uri": "https://localhost:8080/",
          "height": 651
        },
        "id": "TJZe5qeQL1oQ",
        "outputId": "3852e27b-fe7c-41d1-a61c-ed85c24944cb"
      },
      "execution_count": null,
      "outputs": [
        {
          "output_type": "display_data",
          "data": {
            "text/plain": [
              "<Figure size 1000x600 with 1 Axes>"
            ],
            "image/png": "[encoded data removed]"
          },
          "metadata": {}
        }
      ]
    },
    {
      "cell_type": "markdown",
      "source": [
        "3. Get all Pokemons that have no multipliers at all\n"
      ],
      "metadata": {
        "id": "K87FPTK5ODxc"
      }
    },
    {
      "cell_type": "code",
      "source": [
        "df['multipliers']"
      ],
      "metadata": {
        "colab": {
          "base_uri": "https://localhost:8080/"
        },
        "id": "l9OQRYO3SIzo",
        "outputId": "39d31604-e7fa-40d0-83d1-53fc9303aac3"
      },
      "execution_count": null,
      "outputs": [
        {
          "output_type": "execute_result",
          "data": {
            "text/plain": [
              "0            1.58\n",
              "1        1.2, 1.6\n",
              "2            None\n",
              "3            1.65\n",
              "4            1.79\n",
              "          ...    \n",
              "146    1.83, 1.84\n",
              "147          2.05\n",
              "148          None\n",
              "149          None\n",
              "150          None\n",
              "Name: multipliers, Length: 151, dtype: object"
            ]
          },
          "metadata": {},
          "execution_count": 18
        }
      ]
    },
    {
      "cell_type": "code",
      "source": [
        "pokemon_with_no_multipliers = df[df['multipliers'] == \"None\"]\n",
        "print(\"Pokémon with no multipliers:\")\n",
        "print(pokemon_with_no_multipliers[['name', 'multipliers']])\n"
      ],
      "metadata": {
        "colab": {
          "base_uri": "https://localhost:8080/"
        },
        "id": "TuZH5iKrOV95",
        "outputId": "3f7e81c1-2575-424e-dd20-fea477219c94"
      },
      "execution_count": null,
      "outputs": [
        {
          "output_type": "stream",
          "name": "stdout",
          "text": [
            "Pokémon with no multipliers:\n",
            "           name multipliers\n",
            "2      Venusaur        None\n",
            "5     Charizard        None\n",
            "8     Blastoise        None\n",
            "11   Butterfree        None\n",
            "14     Beedrill        None\n",
            "..          ...         ...\n",
            "144      Zapdos        None\n",
            "145     Moltres        None\n",
            "148   Dragonite        None\n",
            "149      Mewtwo        None\n",
            "150         Mew        None\n",
            "\n",
            "[81 rows x 2 columns]\n"
          ]
        }
      ]
    },
    {
      "cell_type": "markdown",
      "source": [
        "4. Get all Pokemons that do not have more than 2 evolutions\n"
      ],
      "metadata": {
        "id": "tjE68wBcTJdm"
      }
    },
    {
      "cell_type": "code",
      "source": [
        "pokemon_with_few_evolutions = df[df['next_evolution'].apply(lambda x: len(x.split(',')) <= 2)]\n",
        "print(\"Pokémon with no more than 2 evolutions:\")\n",
        "print(pokemon_with_few_evolutions[['name', 'next_evolution']])\n"
      ],
      "metadata": {
        "colab": {
          "base_uri": "https://localhost:8080/"
        },
        "id": "kzmYOJeCRfvW",
        "outputId": "dec0a83e-06f7-413e-c68c-3c5bc36d1cff"
      },
      "execution_count": null,
      "outputs": [
        {
          "output_type": "stream",
          "name": "stdout",
          "text": [
            "Pokémon with no more than 2 evolutions:\n",
            "           name                  next_evolution\n",
            "0     Bulbasaur      002: Ivysaur,003: Venusaur\n",
            "1       Ivysaur                   003: Venusaur\n",
            "2      Venusaur                                \n",
            "3    Charmander  005: Charmeleon,006: Charizard\n",
            "4    Charmeleon                  006: Charizard\n",
            "..          ...                             ...\n",
            "146     Dratini   148: Dragonair,149: Dragonite\n",
            "147   Dragonair                  149: Dragonite\n",
            "148   Dragonite                                \n",
            "149      Mewtwo                                \n",
            "150         Mew                                \n",
            "\n",
            "[150 rows x 2 columns]\n"
          ]
        }
      ]
    },
    {
      "cell_type": "markdown",
      "source": [
        "5.  Get all Pokemons whose spawn time is less than 300 seconds"
      ],
      "metadata": {
        "id": "rxc_aBvGkVwF"
      }
    },
    {
      "cell_type": "code",
      "source": [
        "df[\"spawn_time\"].unique()"
      ],
      "metadata": {
        "colab": {
          "base_uri": "https://localhost:8080/"
        },
        "id": "kruxoDAhkkNb",
        "outputId": "83a61fd5-6dc0-4994-d8b7-8a8700f1fe69"
      },
      "execution_count": null,
      "outputs": [
        {
          "output_type": "execute_result",
          "data": {
            "text/plain": [
              "array(['20:00', '07:00', '11:30', '08:45', '19:00', '13:34', '04:25',\n",
              "       '07:02', '00:06', '16:35', '02:11', '05:23', '02:21', '02:30',\n",
              "       '04:50', '01:34', '01:30', '01:50', '01:55', '01:56', '12:25',\n",
              "       '01:11', '12:20', '04:00', '23:58', '01:58', '12:34', '01:51',\n",
              "       '07:22', '12:35', '01:12', '09:02', '12:16', '03:30', '03:29',\n",
              "       '13:43', '01:32', '08:46', '12:28', '02:15', '03:58', '11:33',\n",
              "       '01:42', '01:22', '02:31', '23:40', '02:22', '12:37', '02:54',\n",
              "       '02:44', '03:41', '23:06', '12:52', '12:33', '03:57', '03:11',\n",
              "       '03:40', '09:14', '04:30', '11:25', '10:32', '02:55', '04:10',\n",
              "       '09:45', '12:19', '03:20', '23:36', '12:40', '04:53', '02:50',\n",
              "       '07:12', '02:56', '04:04', '15:25', '01:09', '05:10', '02:12',\n",
              "       '06:46', '06:04', '15:11', '01:28', '07:39', '02:33', '04:21',\n",
              "       '00:10', '03:55', '01:18', '02:17', '03:33', '03:44', '04:36',\n",
              "       '09:09', '03:59', '05:58', '02:46', '08:16', '12:17', '03:21',\n",
              "       '05:50', '04:46', '23:13', '02:40', '02:53', '03:18', '03:14',\n",
              "       '05:21', '22:59', '06:57', '05:43', '05:41', '04:28', '20:36',\n",
              "       '03:25', '00:37', '14:26', '08:59', 'N/A', '05:32', '10:54',\n",
              "       '02:49', '10:23', '05:04', '00:05', '06:41', '11:57', '23:38'],\n",
              "      dtype=object)"
            ]
          },
          "metadata": {},
          "execution_count": 116
        }
      ]
    },
    {
      "cell_type": "code",
      "source": [
        "spawn_time_threshold = \"05:00\"\n",
        "pokemon_with_short_spawn_time = df[df['spawn_time'] < spawn_time_threshold]\n",
        "print(\"Pokémon with spawn time less than 300 seconds:\")\n",
        "print(pokemon_with_short_spawn_time[['name', 'spawn_time']])\n"
      ],
      "metadata": {
        "colab": {
          "base_uri": "https://localhost:8080/"
        },
        "id": "5WIpCQCJkfP2",
        "outputId": "f9844c61-f494-4dcd-f153-ada095bb6e83"
      },
      "execution_count": null,
      "outputs": [
        {
          "output_type": "stream",
          "name": "stdout",
          "text": [
            "Pokémon with spawn time less than 300 seconds:\n",
            "          name spawn_time\n",
            "6     Squirtle      04:25\n",
            "8    Blastoise      00:06\n",
            "10     Metapod      02:11\n",
            "12      Weedle      02:21\n",
            "13      Kakuna      02:30\n",
            "..         ...        ...\n",
            "127     Tauros      00:37\n",
            "129   Gyarados      02:15\n",
            "134    Jolteon      02:30\n",
            "136    Porygon      02:49\n",
            "139     Kabuto      00:05\n",
            "\n",
            "[75 rows x 2 columns]\n"
          ]
        }
      ]
    },
    {
      "cell_type": "markdown",
      "source": [
        "6. Get all Pokemon who have more than two types of capabilities"
      ],
      "metadata": {
        "id": "otYISslomXJi"
      }
    },
    {
      "cell_type": "code",
      "source": [
        "df.head(2)"
      ],
      "metadata": {
        "colab": {
          "base_uri": "https://localhost:8080/",
          "height": 228
        },
        "id": "a7BRdI5CmpVu",
        "outputId": "f6a4b61d-f820-4e72-a545-3ffc2a27839e"
      },
      "execution_count": null,
      "outputs": [
        {
          "output_type": "execute_result",
          "data": {
            "text/plain": [
              "   id  num       name                                               img  \\\n",
              "0   1  001  Bulbasaur  http://www.serebii.net/pokemongo/pokemon/001.png   \n",
              "1   2  002    Ivysaur  http://www.serebii.net/pokemongo/pokemon/002.png   \n",
              "\n",
              "           type  height   weight            candy  candy_count          egg  \\\n",
              "0  Grass,Poison  0.71 m   6.9 kg  Bulbasaur Candy           25         2 km   \n",
              "1  Grass,Poison  0.99 m  13.0 kg  Bulbasaur Candy          100  Not in Eggs   \n",
              "\n",
              "   spawn_chance  avg_spawns spawn_time multipliers               weaknesses  \\\n",
              "0         0.690        69.0      20:00      [1.58]  Fire,Ice,Flying,Psychic   \n",
              "1         0.042         4.2      07:00  [1.2, 1.6]  Fire,Ice,Flying,Psychic   \n",
              "\n",
              "               next_evolution  prev_evolution  \n",
              "0  002: Ivysaur,003: Venusaur                  \n",
              "1               003: Venusaur  001: Bulbasaur  "
            ],
            "text/html": [
              "\n",
              "  <div id=\"df-973b348c-07ec-44b0-a2df-0c3e5d363f5f\">\n",
              "    <div class=\"colab-df-container\">\n",
              "      <div>\n",
              "<style scoped>\n",
              "    .dataframe tbody tr th:only-of-type {\n",
              "        vertical-align: middle;\n",
              "    }\n",
              "\n",
              "    .dataframe tbody tr th {\n",
              "        vertical-align: top;\n",
              "    }\n",
              "\n",
              "    .dataframe thead th {\n",
              "        text-align: right;\n",
              "    }\n",
              "</style>\n",
              "<table border=\"1\" class=\"dataframe\">\n",
              "  <thead>\n",
              "    <tr style=\"text-align: right;\">\n",
              "      <th></th>\n",
              "      <th>id</th>\n",
              "      <th>num</th>\n",
              "      <th>name</th>\n",
              "      <th>img</th>\n",
              "      <th>type</th>\n",
              "      <th>height</th>\n",
              "      <th>weight</th>\n",
              "      <th>candy</th>\n",
              "      <th>candy_count</th>\n",
              "      <th>egg</th>\n",
              "      <th>spawn_chance</th>\n",
              "      <th>avg_spawns</th>\n",
              "      <th>spawn_time</th>\n",
              "      <th>multipliers</th>\n",
              "      <th>weaknesses</th>\n",
              "      <th>next_evolution</th>\n",
              "      <th>prev_evolution</th>\n",
              "    </tr>\n",
              "  </thead>\n",
              "  <tbody>\n",
              "    <tr>\n",
              "      <th>0</th>\n",
              "      <td>1</td>\n",
              "      <td>001</td>\n",
              "      <td>Bulbasaur</td>\n",
              "      <td>http://www.serebii.net/pokemongo/pokemon/001.png</td>\n",
              "      <td>Grass,Poison</td>\n",
              "      <td>0.71 m</td>\n",
              "      <td>6.9 kg</td>\n",
              "      <td>Bulbasaur Candy</td>\n",
              "      <td>25</td>\n",
              "      <td>2 km</td>\n",
              "      <td>0.690</td>\n",
              "      <td>69.0</td>\n",
              "      <td>20:00</td>\n",
              "      <td>[1.58]</td>\n",
              "      <td>Fire,Ice,Flying,Psychic</td>\n",
              "      <td>002: Ivysaur,003: Venusaur</td>\n",
              "      <td></td>\n",
              "    </tr>\n",
              "    <tr>\n",
              "      <th>1</th>\n",
              "      <td>2</td>\n",
              "      <td>002</td>\n",
              "      <td>Ivysaur</td>\n",
              "      <td>http://www.serebii.net/pokemongo/pokemon/002.png</td>\n",
              "      <td>Grass,Poison</td>\n",
              "      <td>0.99 m</td>\n",
              "      <td>13.0 kg</td>\n",
              "      <td>Bulbasaur Candy</td>\n",
              "      <td>100</td>\n",
              "      <td>Not in Eggs</td>\n",
              "      <td>0.042</td>\n",
              "      <td>4.2</td>\n",
              "      <td>07:00</td>\n",
              "      <td>[1.2, 1.6]</td>\n",
              "      <td>Fire,Ice,Flying,Psychic</td>\n",
              "      <td>003: Venusaur</td>\n",
              "      <td>001: Bulbasaur</td>\n",
              "    </tr>\n",
              "  </tbody>\n",
              "</table>\n",
              "</div>\n",
              "      <button class=\"colab-df-convert\" onclick=\"convertToInteractive('df-973b348c-07ec-44b0-a2df-0c3e5d363f5f')\"\n",
              "              title=\"Convert this dataframe to an interactive table.\"\n",
              "              style=\"display:none;\">\n",
              "        \n",
              "  <svg xmlns=\"http://www.w3.org/2000/svg\" height=\"24px\"viewBox=\"0 0 24 24\"\n",
              "       width=\"24px\">\n",
              "    <path d=\"M0 0h24v24H0V0z\" fill=\"none\"/>\n",
              "    <path d=\"M18.56 5.44l.94 2.06.94-2.06 2.06-.94-2.06-.94-.94-2.06-.94 2.06-2.06.94zm-11 1L8.5 8.5l.94-2.06 2.06-.94-2.06-.94L8.5 2.5l-.94 2.06-2.06.94zm10 10l.94 2.06.94-2.06 2.06-.94-2.06-.94-.94-2.06-.94 2.06-2.06.94z\"/><path d=\"M17.41 7.96l-1.37-1.37c-.4-.4-.92-.59-1.43-.59-.52 0-1.04.2-1.43.59L10.3 9.45l-7.72 7.72c-.78.78-.78 2.05 0 2.83L4 21.41c.39.39.9.59 1.41.59.51 0 1.02-.2 1.41-.59l7.78-7.78 2.81-2.81c.8-.78.8-2.07 0-2.86zM5.41 20L4 18.59l7.72-7.72 1.47 1.35L5.41 20z\"/>\n",
              "  </svg>\n",
              "      </button>\n",
              "      \n",
              "  <style>\n",
              "    .colab-df-container {\n",
              "      display:flex;\n",
              "      flex-wrap:wrap;\n",
              "      gap: 12px;\n",
              "    }\n",
              "\n",
              "    .colab-df-convert {\n",
              "      background-color: #E8F0FE;\n",
              "      border: none;\n",
              "      border-radius: 50%;\n",
              "      cursor: pointer;\n",
              "      display: none;\n",
              "      fill: #1967D2;\n",
              "      height: 32px;\n",
              "      padding: 0 0 0 0;\n",
              "      width: 32px;\n",
              "    }\n",
              "\n",
              "    .colab-df-convert:hover {\n",
              "      background-color: #E2EBFA;\n",
              "      box-shadow: 0px 1px 2px rgba(60, 64, 67, 0.3), 0px 1px 3px 1px rgba(60, 64, 67, 0.15);\n",
              "      fill: #174EA6;\n",
              "    }\n",
              "\n",
              "    [theme=dark] .colab-df-convert {\n",
              "      background-color: #3B4455;\n",
              "      fill: #D2E3FC;\n",
              "    }\n",
              "\n",
              "    [theme=dark] .colab-df-convert:hover {\n",
              "      background-color: #434B5C;\n",
              "      box-shadow: 0px 1px 3px 1px rgba(0, 0, 0, 0.15);\n",
              "      filter: drop-shadow(0px 1px 2px rgba(0, 0, 0, 0.3));\n",
              "      fill: #FFFFFF;\n",
              "    }\n",
              "  </style>\n",
              "\n",
              "      <script>\n",
              "        const buttonEl =\n",
              "          document.querySelector('#df-973b348c-07ec-44b0-a2df-0c3e5d363f5f button.colab-df-convert');\n",
              "        buttonEl.style.display =\n",
              "          google.colab.kernel.accessAllowed ? 'block' : 'none';\n",
              "\n",
              "        async function convertToInteractive(key) {\n",
              "          const element = document.querySelector('#df-973b348c-07ec-44b0-a2df-0c3e5d363f5f');\n",
              "          const dataTable =\n",
              "            await google.colab.kernel.invokeFunction('convertToInteractive',\n",
              "                                                     [key], {});\n",
              "          if (!dataTable) return;\n",
              "\n",
              "          const docLinkHtml = 'Like what you see? Visit the ' +\n",
              "            '<a target=\"_blank\" href=https://colab.research.google.com/notebooks/data_table.ipynb>data table notebook</a>'\n",
              "            + ' to learn more about interactive tables.';\n",
              "          element.innerHTML = '';\n",
              "          dataTable['output_type'] = 'display_data';\n",
              "          await google.colab.output.renderOutput(dataTable, element);\n",
              "          const docLink = document.createElement('div');\n",
              "          docLink.innerHTML = docLinkHtml;\n",
              "          element.appendChild(docLink);\n",
              "        }\n",
              "      </script>\n",
              "    </div>\n",
              "  </div>\n",
              "  "
            ]
          },
          "metadata": {},
          "execution_count": 121
        }
      ]
    },
    {
      "cell_type": "code",
      "source": [
        "df['type'].unique()"
      ],
      "metadata": {
        "colab": {
          "base_uri": "https://localhost:8080/"
        },
        "id": "JDEAOzGWmvZq",
        "outputId": "8e2f7d79-c407-4df2-ff28-38b1979e8ac1"
      },
      "execution_count": null,
      "outputs": [
        {
          "output_type": "execute_result",
          "data": {
            "text/plain": [
              "array(['Grass,Poison', 'Fire', 'Fire,Flying', 'Water', 'Bug',\n",
              "       'Bug,Flying', 'Bug,Poison', 'Normal,Flying', 'Normal', 'Poison',\n",
              "       'Electric', 'Ground', 'Poison,Ground', 'Poison,Flying',\n",
              "       'Bug,Grass', 'Fighting', 'Water,Fighting', 'Psychic',\n",
              "       'Water,Poison', 'Rock,Ground', 'Water,Psychic', 'Water,Ice',\n",
              "       'Ghost,Poison', 'Grass,Psychic', 'Ground,Rock', 'Grass',\n",
              "       'Ice,Psychic', 'Water,Flying', 'Rock,Water', 'Rock,Flying',\n",
              "       'Ice,Flying', 'Electric,Flying', 'Dragon', 'Dragon,Flying'],\n",
              "      dtype=object)"
            ]
          },
          "metadata": {},
          "execution_count": 122
        }
      ]
    },
    {
      "cell_type": "code",
      "source": [
        "pokemon_with_multiple_types = df[df['type'].apply(lambda x: len(x.split(','))) > 2]\n",
        "print(\"Pokémon with more than two types of capabilities:\")\n",
        "print(pokemon_with_multiple_types[['name', 'type']])\n",
        "\n",
        "# Here there are no pokemon with more than 2 cpabilities."
      ],
      "metadata": {
        "colab": {
          "base_uri": "https://localhost:8080/"
        },
        "id": "K6jyUUCtmFuk",
        "outputId": "f7652040-b0b2-460a-a9f2-339cbe3a4331"
      },
      "execution_count": null,
      "outputs": [
        {
          "output_type": "stream",
          "name": "stdout",
          "text": [
            "Pokémon with more than two types of capabilities:\n",
            "Empty DataFrame\n",
            "Columns: [name, type]\n",
            "Index: []\n"
          ]
        }
      ]
    },
    {
      "cell_type": "markdown",
      "source": [
        "--------------------------------------------------------------------------------------------"
      ],
      "metadata": {
        "id": "j64vwkkBJ_Xa"
      }
    },
    {
      "cell_type": "markdown",
      "source": [
        "*************ENDED*********************"
      ],
      "metadata": {
        "id": "LEg-mm1jKEnC"
      }
    },
    {
      "cell_type": "markdown",
      "source": [
        "-----------------------------------------------------------------------------------------------------"
      ],
      "metadata": {
        "id": "7fksFFPmKBmT"
      }
    }
  ]
}